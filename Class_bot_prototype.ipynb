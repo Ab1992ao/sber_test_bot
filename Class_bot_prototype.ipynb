{
 "cells": [
  {
   "cell_type": "code",
   "execution_count": 1,
   "metadata": {},
   "outputs": [
    {
     "name": "stdout",
     "output_type": "stream",
     "text": [
      "Populating the interactive namespace from numpy and matplotlib\n"
     ]
    }
   ],
   "source": [
    "import pandas as pd\n",
    "from sklearn.feature_extraction.text import CountVectorizer, TfidfVectorizer\n",
    "from sklearn.linear_model import SGDRegressor,SGDClassifier\n",
    "from sklearn.pipeline import Pipeline\n",
    "from scipy import sparse\n",
    "from sklearn.preprocessing import StandardScaler, MaxAbsScaler,LabelEncoder\n",
    "from sklearn.model_selection import cross_val_score, train_test_split, StratifiedKFold\n",
    "import warnings\n",
    "import pickle\n",
    "from nltk.corpus import stopwords\n",
    "import nltk\n",
    "import seaborn as sns\n",
    "import re\n",
    "import gc\n",
    "import string\n",
    "import lightgbm\n",
    "import pymorphy2\n",
    "from nltk.tokenize.casual import TweetTokenizer\n",
    "from mlxtend.text import tokenizer_emoticons\n",
    "#import spacy\n",
    "warnings.filterwarnings('ignore')\n",
    "%pylab inline"
   ]
  },
  {
   "cell_type": "markdown",
   "metadata": {},
   "source": [
    "### Задание:\n",
    "\n",
    "    Предоставлены 40к пар вопрос-ответ из обсуждения вконтакт.\n",
    "\n",
    "    По ним нужно: \n",
    "        ·         Кластеризовать по темам обращений. Темы должны быть узкие, внутри которых по смыслу не должно быть подкатегорий\n",
    "        ·         Каждому кластеру проставить автоматически название, о чём сообщения внутри него\n",
    "        ·         Сделать автоответчик на вопросы. Формат ответа: \n",
    "[список 5 ближайших троек вида: {вопрос,  ответ, confidence}\n",
    ", а также список названий/эталонных вопросов 5 ближайших кластеров с некоторым confidence]\n",
    "        ·         Оформить по шаблону в виде бота без всяких кнопок, просто текстовый вопрос - текстовый ответ.\n",
    " \n",
    "    Решение должно содержать:\n",
    "\n",
    "    1.ноутбук с обучением модели. Нужно прокомментировать выбранные методы и их парпметры, чтобы была ясна логика выбора решения и его тестирования.\n",
    "    2.код развернутого бота в открытом репозитории, например на github\n",
    "    3.развернутого бота, которого можно потестить "
   ]
  },
  {
   "cell_type": "markdown",
   "metadata": {},
   "source": [
    "### PrepareDataset"
   ]
  },
  {
   "cell_type": "code",
   "execution_count": 11,
   "metadata": {},
   "outputs": [],
   "source": [
    "import random as rnd"
   ]
  },
  {
   "cell_type": "code",
   "execution_count": 9,
   "metadata": {},
   "outputs": [],
   "source": [
    "call_base=pd.read_csv('vk.csv', index_col=0)"
   ]
  },
  {
   "cell_type": "code",
   "execution_count": 10,
   "metadata": {},
   "outputs": [],
   "source": [
    "call_base.fillna('', inplace=True)"
   ]
  },
  {
   "cell_type": "code",
   "execution_count": 24,
   "metadata": {},
   "outputs": [],
   "source": [
    "call_base.to_json('BC_base.json', orient='records')"
   ]
  },
  {
   "cell_type": "markdown",
   "metadata": {},
   "source": [
    "### Прототип класса для чат бота"
   ]
  },
  {
   "cell_type": "code",
   "execution_count": 41,
   "metadata": {},
   "outputs": [],
   "source": [
    "import re\n",
    "import os\n",
    "import json\n",
    "import nltk\n",
    "import scipy\n",
    "import numpy as np\n",
    "import pymorphy2\n",
    "import pickle\n",
    "\n",
    "from sklearn.feature_extraction.text import TfidfVectorizer\n",
    "from sklearn.metrics.pairwise import cosine_similarity\n",
    "import string\n",
    "from nltk.corpus import stopwords\n",
    "\n",
    "from gensim.models import KeyedVectors\n",
    "\n",
    "class ENGINE_3(object):\n",
    "    def __init__(self):\n",
    "        self.knowledge_base = json.load(open(\"./BC_base.json\"))#json.load(open(\"./faq_tks.json\"))\n",
    "        self.knowledge_themes = json.load(open(\"./themes_base.json\"))\n",
    "        self.lemmatizer = pymorphy2.MorphAnalyzer()\n",
    "        self.w2v_model = pickle.load(open('w2v_cards_model.sav', \"rb\"))\n",
    "        self.kmeans=pickle.load(open('kmeans_clustreing_k100.sav', \"rb\"))\n",
    "        \n",
    "        # contains correct output for each class\n",
    "        self.answers = np.array([t['answer'] for t in self.knowledge_base])\n",
    "        self.questions= np.array([t['question'] for t in self.knowledge_base])\n",
    "        self.themes= np.array([t['top5_descriptions_words'] for t in self.knowledge_themes])\n",
    "        self.tfidf = self.prepare_vectorizer()\n",
    "        \n",
    "        self.vectorized_kbase, self.class_indexes = self.vectorize_knowledge_base()\n",
    "    \n",
    "    def prepare_vectorizer(self):\n",
    "        \"\"\"\n",
    "        Fits TF-IDF vectorizer using all available text from self.knowledge_base\n",
    "        \n",
    "        Returns TF-IDF vectorizer object\n",
    "        \"\"\"\n",
    "        # your code goes here\n",
    "        vectorizer = TfidfVectorizer(ngram_range=(1, 1), analyzer='word', min_df=1, norm=False) #можно норм убрать\n",
    "        all_texts = []\n",
    "        for st in self.knowledge_base:\n",
    "            all_texts+=[st['question']]+[st['answer']]#+st['paraphrased_questions']\n",
    "        \n",
    "        all_texts=[' '.join(self.tokenize_and_lemmatize(st)) for st in all_texts]\n",
    "        matrix = vectorizer.fit_transform(all_texts)\n",
    "        tfidf = dict(zip(vectorizer.get_feature_names(), vectorizer.idf_))\n",
    "        \n",
    "        return tfidf\n",
    "        \n",
    "    def tokenize_and_lemmatize(self, file_text):\n",
    "    #firstly let's apply nltk tokenization\n",
    "        tokens = nltk.word_tokenize(file_text)\n",
    "        \n",
    "    #let's delete punctuation symbols\n",
    "        tokens = [i for i in tokens if ( i not in string.punctuation )]\n",
    "\n",
    "    #deleting stop_words\n",
    "        stop_words = stopwords.words('russian')\n",
    "        stop_words.extend(['что', 'это', 'так', 'вот', 'быть', 'как', 'в', '—', 'к', 'на'])\n",
    "        tokens = [i for i in tokens if ( i not in stop_words )]\n",
    "        \n",
    "    #lemmatize words\n",
    "        return  [self.lemmatizer.parse(i)[0].normal_form for i in tokens]\n",
    "    \n",
    "\n",
    "    \n",
    "    def bow_encoder(self,model, tokenizer, text, vsize=300):\n",
    "        vec = np.zeros(vsize).reshape((1, vsize))\n",
    "        tokens=tokenizer(text)\n",
    "        count = 0.\n",
    "        for word in tokens:\n",
    "            try:\n",
    "                vec += model[word].reshape((1, vsize)) * self.tfidf[word]\n",
    "                count += 1.\n",
    "            except KeyError: # handling the case where the token is not\n",
    "                         # in the corpus. useful for testing.\n",
    "                    continue\n",
    "        if count != 0:\n",
    "            vec /= count\n",
    "        return vec[0]\n",
    "    \n",
    "    def vectorize(self, data):\n",
    "        \"\"\"\n",
    "        Turns a list of N strings into their vector representation using self.w2v_model.\n",
    "        In the simplest case, averages the word vectors of all words in a sentence.\n",
    "        Returns a a matrix of shape [N, 300]\n",
    "        \"\"\"\n",
    "        vectorized = []\n",
    "        for d in data:\n",
    "            vectorized.append(self.bow_encoder(self.w2v_model, self.tokenize_and_lemmatize, d))\n",
    "        \n",
    "        return np.array(vectorized)\n",
    "        \n",
    "    def vectorize_knowledge_base(self):\n",
    "        \"\"\"\n",
    "        Vectorizes all questions using the vectorize function.\n",
    "        Builds a list containing class number for each question.        \n",
    "        \"\"\"\n",
    "        vectors = []\n",
    "        class_labels = []\n",
    "        \n",
    "        for i, t in enumerate(self.knowledge_base):\n",
    "            #vc = np.vstack([self.vectorize([t['question']]), self.vectorize(t['paraphrased_questions'])])\n",
    "            vc = self.vectorize([t['question']])\n",
    "            vectors.append(vc)\n",
    "            class_labels.append(i)\n",
    "            #class_labels += [i]*len(t['paraphrased_questions'])\n",
    "        \n",
    "        \n",
    "        return np.vstack(vectors), class_labels\n",
    "    \n",
    "    def compute_class_scores(self, similarities):\n",
    "        \"\"\"\n",
    "        Accepts an array of similarities of shape (self.class_indexes, )\n",
    "        Computes scores for classes.\n",
    "        Returns a dictionary of size (n_classes) that looks like\n",
    "        {\n",
    "            0: 0.3,\n",
    "            1: 0.1,\n",
    "            2: 0.0,\n",
    "            class_n_id: class_n_score\n",
    "            ...\n",
    "        }\n",
    "        \"\"\"\n",
    "        class_scores = dict(zip(range(len(self.answers)), [0]*len(self.answers)))\n",
    "        \n",
    "        for ci, sc in zip(self.class_indexes, similarities):\n",
    "            class_scores[ci] += sc\n",
    "        return class_scores\n",
    "    \n",
    "    def get_top_answers(self, query, top_k=5):\n",
    "        if isinstance(query, str):\n",
    "            query = [query]\n",
    "            \n",
    "        vectorized_query = self.vectorize(query)\n",
    "        css = cosine_similarity(vectorized_query, self.vectorized_kbase)[0]\n",
    "        scores = self.compute_class_scores(css)\n",
    "        \n",
    "        sorted_scores = sorted(scores.items(), key= lambda x: x[1])[::-1][:top_k]\n",
    "        top_classes = np.array([c[0] for c in sorted_scores])\n",
    "        top_answers = zip(list(self.questions[top_classes]), list(self.answers[top_classes]), sorted_scores)\n",
    "        if scores[top_classes[0]]<0.618: #порог 1-phi(золотое сечение)\n",
    "            top_answers=['К сожалению в системе нет ответа на Ваш вопрос. Пожайлуста, обратитесь к оператору по тел. ******', \n",
    "                         '',\n",
    "                         '']\n",
    "        return tuple(top_answers)\n",
    "    \n",
    "    def get_top_themes(self, query, top_k=5):\n",
    "        if isinstance(query, str):\n",
    "            query = [query]\n",
    "            \n",
    "        vectorized_query = self.vectorize(query)\n",
    "        top_themes=np.argsort(self.kmeans.transform(vectorized_query))[0][:top_k]\n",
    "        min_=np.min(self.kmeans.transform(vectorized_query)[0])\n",
    "        max_=np.max(self.kmeans.transform(vectorized_query)[0])\n",
    "        sorted_scores = 1-(np.sort(self.kmeans.transform(vectorized_query))[0][:top_k]-min_)/(max_-min_)\n",
    " \n",
    "        top_answers = zip(self.themes[top_themes], sorted_scores)\n",
    "        return tuple(top_answers)"
   ]
  },
  {
   "cell_type": "code",
   "execution_count": 42,
   "metadata": {},
   "outputs": [
    {
     "data": {
      "text/plain": [
       "[(10, 1), (1, 2)]"
      ]
     },
     "execution_count": 42,
     "metadata": {},
     "output_type": "execute_result"
    }
   ],
   "source": [
    "[(10,1),(1,2)]"
   ]
  },
  {
   "cell_type": "code",
   "execution_count": 43,
   "metadata": {},
   "outputs": [
    {
     "data": {
      "text/plain": [
       "(100, 1)"
      ]
     },
     "execution_count": 43,
     "metadata": {},
     "output_type": "execute_result"
    }
   ],
   "source": [
    "np.random.randint(2, size=(100, 1)).shape"
   ]
  },
  {
   "cell_type": "code",
   "execution_count": 44,
   "metadata": {},
   "outputs": [],
   "source": [
    "engine = ENGINE_3()"
   ]
  },
  {
   "cell_type": "code",
   "execution_count": 45,
   "metadata": {
    "scrolled": false
   },
   "outputs": [
    {
     "data": {
      "text/plain": [
       "(('с карты на счёт были переведены деньги, как сделать возврат? счёт и карта сбер банка',\n",
       "  ' сожалеем, что вам пришлось столкнуться с такой ситуацией. для уточнения возможности возврата средств рекомендуем оформить заявление по форме банка в любом офисе. в данной ситуации есть два возможных варианта развития событий. если банк успеет остановить перевод до того, как он будет выполнен, то банк вернёт вам средства по вашему заявлению. если же перевод был выполнен и средства поступили на карту другого человека, то банк не сможет вам их вернуть. банк не имеет права изымать средства со счетов клиентов, кроме как по решению суда. банком будет направлено клиенту письмо с предложением вернуть средства в банк. если клиент этого не сделает, то вы сможете вернуть средства, только обратившись в суд. дополнительно отметим, что расследование случаев мошенничества, а так же розыск и поимка преступников законодательно находятся вне юрисдикции банка. этим занимаются правоохранительные органы, а банк, в свою очередь, всегда готов оказать им любое необходимое содействие. поэтому мы рекомендуем вам подать заявление в полицию, сотрудники которой примут все необходимые меры для розыска мошенников, после этого, через суд можно будет компенсировать потери. со своей стороны наш банк всегда готов сотрудничать со следствием и предоставлять все необходимые материалы, которые могут помочь задержать преступников.',\n",
       "  (18595, 0.7994015806881508)),\n",
       " ('могу ли я перевести средства в сша (на карту)?',\n",
       "  ' существует несколько типов внешних переводов, которые возможно осуществить в отделении банка.  универсальный перевод. для осуществления данного вида перевода в отделении банка вам понадобится:  - документ, удостоверяющий личность (паспорт);  - swift-код банка получателя;  - наименование банка получателя;  - фио получателя;  - паспортные данные получателя и/или адрес получателя.  международные срочные переводы «колибри» в дочерние банки сбербанка в белоруссии и казахстане. для осуществления данного вида перевода в отделении банка вам понадобится:  - документ, удостоверяющий личность (паспорт);  - фио получателя.  международные срочные переводы «moneygram». для осуществления данного вида перевода в отделении банка вам понадобится:  - документ, удостоверяющий личность (паспорт);  - имя и фамилия получателя латинскими буквами.  в каждом из переводов есть свои особенности, поэтому подробную информацию мы рекомендуем уточнить в отделении банка, в контактном центре по бесплатному телефону 900 (для федеральных операторов связи: теле2, мтс, билайн, мегафон, yota, мотив) или на нашем сайте: http://www.sberbank.ru/ru/person/paymentsandremittances/remittance/out/.',\n",
       "  (39744, 0.7967084465410037)),\n",
       " ('хочу перевести с дебетовой карты 200 тысяч на другой свой счёт. подскажите, как это сделать? лучше в л/с.',\n",
       "  '  осуществить перевод между своими счетами, открытыми в нашем банке, вы можете в сбербанк онлайн, при наличии доступа к системе, в личном кабинете терминала нашего банка с использованием карты или в любом офисе банка. обращаем ваше внимание, перевод на счет вклада возможен только в случае, если его условиями предусмотрено пополнение. ознакомиться с руководством пользователя сбербанк онлайн можно на сайте: http://www.sberbank.ru/common/img/uploaded/files/pdf/rukovodstvo_klienta_sbol_erib.pdf/. ознакомится со способами перевода вы также можете по ссылке: http://www.sberbank.ru/ru/person/paymentsandremittances/remittance/in/beznal_rus/beznal_cs_rus.',\n",
       "  (19551, 0.7957792566093467)),\n",
       " ('хочу перевести с дебетовой карты 200 тысяч на другой свой счёт. подскажите, как это сделать? лучше в л/с.',\n",
       "  ' осуществить перевод между своими счетами, открытыми в нашем банке, вы можете в сбербанк онлайн, при наличии доступа к системе, в личном кабинете терминала нашего банка с использованием карты или в любом офисе банка. обращаем ваше внимание, перевод на счет вклада возможен только в случае, если его условиями предусмотрено пополнение.',\n",
       "  (19550, 0.7957792566093467)),\n",
       " ('не могу перевести деньги с расчетного счета на карту. а у подруги со своего счета это сделать получилось. как такое возможно и как осуществить перевод?',\n",
       "  ' рекомендуем вам обратиться в контактный центр банка по телефону 8-800-555-555-0 и проанализировать причину отказа в проведении операции.',\n",
       "  (5774, 0.794851406224483)))"
      ]
     },
     "execution_count": 45,
     "metadata": {},
     "output_type": "execute_result"
    }
   ],
   "source": [
    "engine.get_top_answers('Хочу вывести средства на другой счет,как это сделать')"
   ]
  },
  {
   "cell_type": "code",
   "execution_count": 46,
   "metadata": {},
   "outputs": [
    {
     "data": {
      "text/plain": [
       "((array(['перевод', 'карта', 'счёт', 'средство', 'сбербанк'], dtype='<U15'),\n",
       "  1.0),\n",
       " (array(['деньга', 'карта', 'перевести', 'вернуть', 'сбербанк'],\n",
       "        dtype='<U15'), 0.9924785536045473),\n",
       " (array(['карта', 'деньга', 'перевести', 'сбербанк', 'счёт'], dtype='<U15'),\n",
       "  0.9914367063083783),\n",
       " (array(['книжка', 'сберкнижка', 'деньга', 'счёт', 'сберегательный'],\n",
       "        dtype='<U15'), 0.9758955871196845),\n",
       " (array(['киви', 'кошелёк', 'деньга', 'карта', 'яндекс'], dtype='<U15'),\n",
       "  0.9723792358905873))"
      ]
     },
     "execution_count": 46,
     "metadata": {},
     "output_type": "execute_result"
    }
   ],
   "source": [
    "engine.get_top_themes('Хочу вывести средства на другой счет,как это сделать')"
   ]
  },
  {
   "cell_type": "code",
   "execution_count": null,
   "metadata": {},
   "outputs": [],
   "source": []
  }
 ],
 "metadata": {
  "kernelspec": {
   "display_name": "Python 3",
   "language": "python",
   "name": "python3"
  },
  "language_info": {
   "codemirror_mode": {
    "name": "ipython",
    "version": 3
   },
   "file_extension": ".py",
   "mimetype": "text/x-python",
   "name": "python",
   "nbconvert_exporter": "python",
   "pygments_lexer": "ipython3",
   "version": "3.6.7"
  }
 },
 "nbformat": 4,
 "nbformat_minor": 2
}
