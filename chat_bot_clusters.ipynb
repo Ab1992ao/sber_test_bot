{
 "cells": [
  {
   "cell_type": "code",
   "execution_count": 1,
   "metadata": {},
   "outputs": [
    {
     "name": "stderr",
     "output_type": "stream",
     "text": [
      "C:\\Users\\AlexConda\\Anaconda3\\lib\\site-packages\\gensim\\utils.py:1212: UserWarning: detected Windows; aliasing chunkize to chunkize_serial\n",
      "  warnings.warn(\"detected Windows; aliasing chunkize to chunkize_serial\")\n"
     ]
    }
   ],
   "source": [
    "import pandas as pd\n",
    "import swifter\n",
    "import re\n",
    "import gc\n",
    "import string\n",
    "import numpy as np\n",
    "from sklearn.feature_extraction.text import TfidfVectorizer\n",
    "from string import digits\n",
    "import gensim\n",
    "from sklearn import preprocessing\n",
    "import pymorphy2\n",
    "from swifter import swifter\n",
    "import pickle\n",
    "morph = pymorphy2.MorphAnalyzer()"
   ]
  },
  {
   "cell_type": "code",
   "execution_count": 2,
   "metadata": {},
   "outputs": [],
   "source": [
    "from scipy import spatial"
   ]
  },
  {
   "cell_type": "code",
   "execution_count": 3,
   "metadata": {},
   "outputs": [],
   "source": [
    "from nltk.corpus import stopwords\n",
    "stop_words = stopwords.words('russian')\n",
    "stop_words.extend(['что', 'это', 'так', 'вот', 'быть', 'как', 'в', '—', 'к', 'на'])"
   ]
  },
  {
   "cell_type": "code",
   "execution_count": 4,
   "metadata": {},
   "outputs": [],
   "source": [
    "def tokenize_me(file_text):\n",
    "    #firstly let's apply nltk tokenization\n",
    "    tokens = file_text.split(' ')\n",
    "\n",
    "    #let's delete punctuation symbols\n",
    "    tokens = [i for i in tokens if ( i not in string.punctuation )]\n",
    "\n",
    "    #deleting stop_words без этого 85852\n",
    "    stop_words = stopwords.words('russian')\n",
    "    stop_words.extend(['что', 'это', 'так', 'вот', 'быть', 'как', 'в', '—', 'к', 'на'])\n",
    "    tokens = [i for i in tokens if (i not in stop_words)]\n",
    "\n",
    "    #cleaning words\n",
    "\n",
    "    tokens = [morph.parse(i)[0].normal_form for i in tokens]\n",
    "     \n",
    "    return ' '.join(tokens)"
   ]
  },
  {
   "cell_type": "code",
   "execution_count": 5,
   "metadata": {},
   "outputs": [],
   "source": [
    "def featurize_w2v(model, sentences, vsize=150):\n",
    "    f = np.zeros((len(sentences), vsize))\n",
    "    for i,s in enumerate(sentences):\n",
    "        #count = 0.\n",
    "        for w in s:\n",
    "            try:\n",
    "                vec = model[w].reshape((1, vsize))*tfidf[w]\n",
    "                #count +=1.\n",
    "            except KeyError:\n",
    "                continue\n",
    "            f[i,:] = f[i,:] + vec\n",
    "        if len(s) !=0: #count != 0:\n",
    "            f[i,:] = f[i,:] / len(s)\n",
    "    return f"
   ]
  },
  {
   "cell_type": "code",
   "execution_count": 6,
   "metadata": {},
   "outputs": [],
   "source": [
    "def get_tfidf(texts):\n",
    "    vectorizer = TfidfVectorizer(encoding='unicode',\n",
    "                                                  ngram_range= (1, 1), \n",
    "                                                  norm=None,\n",
    "                                                 #stop_words=stop_words,\n",
    "                                                  #min_df=3,#3-оптимум\n",
    "                                                  use_idf=True,\n",
    "                                                  #sublinear_tf=True,\n",
    "                                                  #tokenizer=TweetTokenizer().tokenize,\n",
    "                                                  #stop_words=stop_words,\n",
    "                                                  analyzer='word')\n",
    "    matrix = vectorizer.fit_transform(texts)\n",
    "    tfidf = dict(zip(vectorizer.get_feature_names(), vectorizer.idf_))\n",
    "    return tfidf, matrix"
   ]
  },
  {
   "cell_type": "markdown",
   "metadata": {},
   "source": [
    "### EDA"
   ]
  },
  {
   "cell_type": "code",
   "execution_count": 7,
   "metadata": {},
   "outputs": [],
   "source": [
    "df=pd.read_csv('vk.csv', index_col=0)"
   ]
  },
  {
   "cell_type": "code",
   "execution_count": 8,
   "metadata": {},
   "outputs": [],
   "source": [
    "#заменим пустые строки на символ пустой строки\n",
    "df['question'].fillna('', inplace=True) "
   ]
  },
  {
   "cell_type": "code",
   "execution_count": 9,
   "metadata": {},
   "outputs": [],
   "source": [
    "#вычащаем символы\n",
    "df['question']=df['question'].str.replace('([\"№#$%&()*!?+,-./:;<=>@[\\]^_`{|}~\"“”¨«»®´·º½¾²¿¡§£₤‘’\\t\\n\\d*])',' ') "
   ]
  },
  {
   "cell_type": "code",
   "execution_count": 10,
   "metadata": {},
   "outputs": [],
   "source": [
    "#убираем цифры\n",
    "df['question']=df['question'].map(lambda x: re.sub(r'\\d',' ', x.lower()))"
   ]
  },
  {
   "cell_type": "code",
   "execution_count": 11,
   "metadata": {},
   "outputs": [],
   "source": [
    "#убрать латинские символы\n",
    "df['question']=df['question'].map(lambda x: re.sub(r'[abcdefghijklmnopqrstuvwxyz]',' ', x.lower()))"
   ]
  },
  {
   "cell_type": "code",
   "execution_count": 12,
   "metadata": {},
   "outputs": [],
   "source": [
    "#зафиксим \"не\"\n",
    "df['question']=df['question'].map(lambda x: re.sub(r' не ',' не_', x.lower()))"
   ]
  },
  {
   "cell_type": "code",
   "execution_count": 13,
   "metadata": {},
   "outputs": [],
   "source": [
    "#чистим от термов короче 3 символов\n",
    "df['question']=df['question'].map(lambda x: ' '.join([st for st in x.split(' ') if st!='' and len(st)>3]))"
   ]
  },
  {
   "cell_type": "code",
   "execution_count": 14,
   "metadata": {},
   "outputs": [
    {
     "name": "stderr",
     "output_type": "stream",
     "text": [
      "Pandas Apply: 100%|█████████████████████████████████████████████████████████████| 40117/40117 [02:33<00:00, 262.15it/s]\n"
     ]
    }
   ],
   "source": [
    "#нормализуем данные\n",
    "df['question']=df['question'].swifter.apply(lambda x: tokenize_me(x))"
   ]
  },
  {
   "cell_type": "code",
   "execution_count": 15,
   "metadata": {},
   "outputs": [
    {
     "data": {
      "text/plain": [
       "'дебетный карта пришлый сообщение неразрешенный задолженность никакой задолженность не_мочь карта дебетный сколько понять банковский косяк банк захотеть взять процент вернуть свой деньга'"
      ]
     },
     "execution_count": 15,
     "metadata": {},
     "output_type": "execute_result"
    }
   ],
   "source": [
    "df['question'][1]"
   ]
  },
  {
   "cell_type": "markdown",
   "metadata": {},
   "source": [
    "### word2vec\n",
    "    1.Обучим свой w2v на диалогах и возьмем гугловский w2v для русского языка.\n",
    "    2.Эксперимент показал, что лучше работает w2v обученный именно на диалогах."
   ]
  },
  {
   "cell_type": "code",
   "execution_count": 16,
   "metadata": {},
   "outputs": [],
   "source": [
    "documents=list(df['question'].map(lambda x: [st for st in x.split(' ')])) #получим токен лист документов"
   ]
  },
  {
   "cell_type": "code",
   "execution_count": 17,
   "metadata": {},
   "outputs": [],
   "source": [
    "w2v_model = pickle.load(open('word_vectors.pkl', \"rb\")) #пробовал работает хуже"
   ]
  },
  {
   "cell_type": "code",
   "execution_count": 17,
   "metadata": {
    "scrolled": true
   },
   "outputs": [
    {
     "data": {
      "text/plain": [
       "(6060751, 7212920)"
      ]
     },
     "execution_count": 17,
     "metadata": {},
     "output_type": "execute_result"
    }
   ],
   "source": [
    "model = gensim.models.Word2Vec(\n",
    "        documents,\n",
    "        size=300,\n",
    "        window=5,\n",
    "        min_count=1,\n",
    "        workers=6)\n",
    "model.train(documents, total_examples=len(documents), epochs=10)"
   ]
  },
  {
   "cell_type": "code",
   "execution_count": 18,
   "metadata": {},
   "outputs": [
    {
     "data": {
      "text/plain": [
       "0"
      ]
     },
     "execution_count": 18,
     "metadata": {},
     "output_type": "execute_result"
    }
   ],
   "source": [
    "### ОБУЧИЛ СВОЙ w2v\n",
    "gc.collect()"
   ]
  },
  {
   "cell_type": "code",
   "execution_count": 19,
   "metadata": {},
   "outputs": [],
   "source": [
    "tfidf, _ = get_tfidf(df['question']) #TFIDF для того, чтобы информация после сложения векторов слов в предложения на размылось"
   ]
  },
  {
   "cell_type": "code",
   "execution_count": 20,
   "metadata": {},
   "outputs": [],
   "source": [
    "documents=list(df['question'].map(lambda x: [st for st in x.split(' ') if st!='' and len(st)>3])) #подчистим слова имеющие менее 4 символов"
   ]
  },
  {
   "cell_type": "code",
   "execution_count": 21,
   "metadata": {},
   "outputs": [
    {
     "name": "stderr",
     "output_type": "stream",
     "text": [
      "C:\\Users\\AlexConda\\Anaconda3\\lib\\site-packages\\ipykernel_launcher.py:7: DeprecationWarning: Call to deprecated `__getitem__` (Method will be removed in 4.0.0, use self.wv.__getitem__() instead).\n",
      "  import sys\n"
     ]
    }
   ],
   "source": [
    "w2v_train = featurize_w2v(model, documents, 300) #векторизуем вопросы"
   ]
  },
  {
   "cell_type": "code",
   "execution_count": 22,
   "metadata": {},
   "outputs": [
    {
     "data": {
      "text/plain": [
       "array([[ 0.76800202, -0.79295181,  0.79628135, ..., -0.20795913,\n",
       "         3.75864571, -0.15927018],\n",
       "       [ 0.57324352,  1.62459679, -0.05462   , ..., -0.69258693,\n",
       "        -0.69549218, -0.95374401],\n",
       "       [-1.64565914,  1.32632492, -0.69669094, ...,  0.72904774,\n",
       "         0.017226  ,  1.15732627],\n",
       "       ...,\n",
       "       [ 0.29746139, -1.15482549,  2.74291831, ...,  1.06140679,\n",
       "         1.43490343,  1.4336178 ],\n",
       "       [ 1.48094589,  1.32346201, -1.43632933, ...,  1.3889812 ,\n",
       "        -0.00398804,  0.60700192],\n",
       "       [ 1.64399461,  1.90951513, -0.02743099, ..., -0.51850617,\n",
       "        -0.12806366, -3.81865987]])"
      ]
     },
     "execution_count": 22,
     "metadata": {},
     "output_type": "execute_result"
    }
   ],
   "source": [
    "w2v_train"
   ]
  },
  {
   "cell_type": "markdown",
   "metadata": {},
   "source": [
    "### Clustering\n",
    "1. Попробуем для кластеризации использовать k-means\n",
    "2. В качестве confidence возьмем именно дистанции до N ближайших кластеров\n",
    "3. Для выделения тематик используем TF-IDF представления кластера-документа. Подход в том, чтобы объеденить обращения внутри кластера в один док и посчитать к нему tfidf топ 5 по этой мере слов и будет характеристикой кластера.\n",
    "4. Число кластеров примем по правилу плеча (на изгибе кривой изменения инерции кластера по отношению к их числу на обучении)"
   ]
  },
  {
   "cell_type": "code",
   "execution_count": 23,
   "metadata": {},
   "outputs": [
    {
     "name": "stdout",
     "output_type": "stream",
     "text": [
      "Populating the interactive namespace from numpy and matplotlib\n"
     ]
    }
   ],
   "source": [
    "from sklearn.cluster import MiniBatchKMeans\n",
    "%pylab inline"
   ]
  },
  {
   "cell_type": "code",
   "execution_count": 24,
   "metadata": {},
   "outputs": [],
   "source": [
    "w2v_train=preprocessing.scale(w2v_train)"
   ]
  },
  {
   "cell_type": "code",
   "execution_count": 25,
   "metadata": {},
   "outputs": [
    {
     "name": "stdout",
     "output_type": "stream",
     "text": [
      "Wall time: 1min 52s\n"
     ]
    }
   ],
   "source": [
    "%%time\n",
    "inertia = []\n",
    "#X_all_clear.drop(['yaS_labels'], axis=1, inplace=True)\n",
    "for k in range(10, 310, 10):\n",
    "    kmeans=MiniBatchKMeans(n_clusters=k, batch_size=1000, max_iter=100, tol=1e-4, random_state=42, n_init=4).fit(w2v_train)\n",
    "    inertia.append(np.sqrt(kmeans.inertia_))"
   ]
  },
  {
   "cell_type": "code",
   "execution_count": 26,
   "metadata": {},
   "outputs": [
    {
     "data": {
      "image/png": "[encoded data removed]",
      "text/plain": [
       "<Figure size 432x288 with 1 Axes>"
      ]
     },
     "metadata": {
      "needs_background": "light"
     },
     "output_type": "display_data"
    }
   ],
   "source": [
    "plt.plot(range(10, 310, 10), inertia, marker='s');\n",
    "plt.xlabel('$k$')\n",
    "plt.ylabel('$J(C_k)$');\n",
    "plt.show()"
   ]
  },
  {
   "cell_type": "code",
   "execution_count": 27,
   "metadata": {},
   "outputs": [],
   "source": [
    "best_k=100\n",
    "kmeans=MiniBatchKMeans(n_clusters=best_k, batch_size=1000, max_iter=100, tol=1e-4, random_state=42, n_init=4).fit(w2v_train)"
   ]
  },
  {
   "cell_type": "code",
   "execution_count": 28,
   "metadata": {},
   "outputs": [],
   "source": [
    "df['cluster_labels']=[i for i in kmeans.labels_ ]"
   ]
  },
  {
   "cell_type": "code",
   "execution_count": 29,
   "metadata": {},
   "outputs": [
    {
     "data": {
      "text/plain": [
       "<matplotlib.axes._subplots.AxesSubplot at 0x1252aff1e48>"
      ]
     },
     "execution_count": 29,
     "metadata": {},
     "output_type": "execute_result"
    },
    {
     "data": {
      "image/png": "[encoded data removed]",
      "text/plain": [
       "<Figure size 1440x720 with 1 Axes>"
      ]
     },
     "metadata": {
      "needs_background": "light"
     },
     "output_type": "display_data"
    }
   ],
   "source": [
    "plt.figure(figsize=(20,10))\n",
    "df['cluster_labels'].hist(bins=120)"
   ]
  },
  {
   "cell_type": "code",
   "execution_count": 30,
   "metadata": {},
   "outputs": [],
   "source": [
    "#сохраним модель\n",
    "pickle.dump(kmeans, open('kmeans_clustreing_k100.sav', 'wb'))"
   ]
  },
  {
   "cell_type": "code",
   "execution_count": 31,
   "metadata": {},
   "outputs": [],
   "source": [
    "pickle.dump(model, open('w2v_cards_model.sav', 'wb'))"
   ]
  },
  {
   "cell_type": "code",
   "execution_count": 60,
   "metadata": {
    "scrolled": true
   },
   "outputs": [
    {
     "data": {
      "text/plain": [
       "array([13, 43, 81, 93, 56, 15, 51, 74, 87, 30, 72, 17, 76, 35,  5, 12, 68,\n",
       "       16, 49, 14, 79, 57, 78, 82, 50, 39, 22, 88, 25, 86, 41, 69, 84, 47,\n",
       "       18, 37, 66,  1, 70,  3, 33, 10, 32, 63, 42, 53, 52, 23,  8,  6, 20,\n",
       "       91,  4, 96, 99, 60, 45, 44, 89, 67,  0, 73, 85,  7, 19, 65, 36, 34,\n",
       "       55, 40, 48, 26, 77, 90, 64, 92, 29, 75, 94, 38, 58, 59, 80, 62, 71,\n",
       "       54, 83, 61, 31, 11, 27, 46, 95, 21, 97,  2, 98, 24, 28,  9],\n",
       "      dtype=int64)"
      ]
     },
     "execution_count": 60,
     "metadata": {},
     "output_type": "execute_result"
    }
   ],
   "source": [
    "np.argsort(kmeans.transform([w2v_train[0]]))[0]"
   ]
  },
  {
   "cell_type": "code",
   "execution_count": 59,
   "metadata": {},
   "outputs": [
    {
     "data": {
      "text/plain": [
       "array([1.        , 0.9401    , 0.87936709, 0.87497828, 0.86818809])"
      ]
     },
     "execution_count": 59,
     "metadata": {},
     "output_type": "execute_result"
    }
   ],
   "source": [
    "1-(np.sort(kmeans.transform([w2v_train[0]]))[0][:5]-np.min(kmeans.transform([w2v_train[0]])[0]))/(np.max(kmeans.transform([w2v_train[0]])[0])-np.min(kmeans.transform([w2v_train[0]])[0]))"
   ]
  },
  {
   "cell_type": "markdown",
   "metadata": {},
   "source": [
    "### Modeling thems"
   ]
  },
  {
   "cell_type": "code",
   "execution_count": 33,
   "metadata": {},
   "outputs": [],
   "source": [
    "from sklearn.neighbors import NearestNeighbors\n",
    "\n",
    "def get_top_term(n, i):\n",
    "    return vocab[np.argsort(-1*np_descr.toarray()[i])[:n]]"
   ]
  },
  {
   "cell_type": "code",
   "execution_count": 34,
   "metadata": {},
   "outputs": [],
   "source": [
    "df_descr=df[['question','cluster_labels']].groupby('cluster_labels',as_index=False).agg(lambda x:' '.join(x))\n",
    "\n",
    "tfidf_= TfidfVectorizer(stop_words=stop_words, \n",
    "                        ngram_range=(1,1),\n",
    "                        norm=None, \n",
    "                        use_idf=True,\n",
    "                       smooth_idf =True\n",
    "                       ).fit(df_descr['question'])\n",
    "\n",
    "\n",
    "np_descr=tfidf_.transform(df_descr['question'])\n",
    "vocab=np.array(tfidf_.get_feature_names())"
   ]
  },
  {
   "cell_type": "code",
   "execution_count": 35,
   "metadata": {
    "scrolled": true
   },
   "outputs": [
    {
     "name": "stdout",
     "output_type": "stream",
     "text": [
      "cluster_labels 0\n",
      "['документ' 'кредит' 'сбербанк' 'банка' 'договор']\n"
     ]
    },
    {
     "name": "stderr",
     "output_type": "stream",
     "text": [
      "C:\\Users\\AlexConda\\Anaconda3\\lib\\site-packages\\pandas\\core\\indexing.py:189: SettingWithCopyWarning: \n",
      "A value is trying to be set on a copy of a slice from a DataFrame\n",
      "\n",
      "See the caveats in the documentation: http://pandas.pydata.org/pandas-docs/stable/indexing.html#indexing-view-versus-copy\n",
      "  self._setitem_with_indexer(indexer, value)\n"
     ]
    },
    {
     "name": "stdout",
     "output_type": "stream",
     "text": [
      "cluster_labels 1\n",
      "['баланс' 'карта' 'деньга' 'рубль' 'пополнить']\n",
      "cluster_labels 2\n",
      "['заблокировать' 'блокировать' 'мошенник' 'написывать' 'доступ']\n",
      "cluster_labels 3\n",
      "['арест' 'пристав' 'карта' 'деньга' 'счёт']\n",
      "cluster_labels 4\n",
      "['сбербанк' 'карта' 'сотрудник' 'банка' 'вопрос']\n",
      "cluster_labels 5\n",
      "['комиссия' 'карта' 'перевод' 'сбербанк' 'деньга']\n",
      "cluster_labels 6\n",
      "['паспорт' 'карта' 'получить' 'мочь' 'документ']\n",
      "cluster_labels 7\n",
      "['город' 'карта' 'открытый' 'область' 'регион']\n",
      "cluster_labels 8\n",
      "['монета' 'сбербанк' 'купить' 'юбилейный' 'номинал']\n",
      "cluster_labels 9\n",
      "['мошенник' 'аааа' 'подство' 'подстверждение' 'подстановка']\n",
      "cluster_labels 10\n",
      "['карта' 'готовый' 'забрать' 'сказать' 'неделя']\n",
      "cluster_labels 11\n",
      "['кредит' 'потребительский' 'взять' 'тысяча' 'процент']\n",
      "cluster_labels 12\n",
      "['карта' 'сбербанк' 'отделение' 'сказать' 'банка']\n",
      "cluster_labels 13\n",
      "['карта' 'магазин' 'интернет' 'покупка' 'оплата']\n",
      "cluster_labels 14\n",
      "['карта' 'деньга' 'заблокировать' 'снять' 'счёт']\n",
      "cluster_labels 15\n",
      "['курс' 'доллар' 'валюта' 'карта' 'конвертация']\n",
      "cluster_labels 16\n",
      "['карта' 'деньга' 'сбербанк' 'сумма' 'счёт']\n",
      "cluster_labels 17\n",
      "['карта' 'сбербанк' 'крым' 'деньга' 'банкомат']\n",
      "cluster_labels 18\n",
      "['реквизит' 'карта' 'сбербанк' 'счёт' 'банка']\n",
      "cluster_labels 19\n",
      "['кредит' 'взять' 'сбербанк' 'потребительский' 'сумма']\n",
      "cluster_labels 20\n",
      "['процент' 'сумма' 'карта' 'рубль' 'вклад']\n",
      "cluster_labels 21\n",
      "['мошенник' 'осторожно' 'очередной' 'внимание' 'орлов']\n",
      "cluster_labels 22\n",
      "['пароль' 'карта' 'сбербанк' 'онлайн' 'логин']\n",
      "cluster_labels 23\n",
      "['дизайн' 'индивидуальный' 'карта' 'заявка' 'молодёжный']\n",
      "cluster_labels 24\n",
      "['мошенница' 'орлов' 'егор' 'мошенник' 'осторожно']\n",
      "cluster_labels 25\n",
      "['приложение' 'сбербанк' 'онлайн' 'почему' 'шаблон']\n",
      "cluster_labels 26\n",
      "['ипотека' 'квартира' 'кредит' 'документ' 'участок']\n",
      "cluster_labels 27\n",
      "['отключить' 'мобильный' 'банк' 'подключить' 'телефон']\n",
      "cluster_labels 28\n",
      "['сотрудник' 'сотрудница' 'ваш' 'представиться' 'надоесть']\n",
      "cluster_labels 29\n",
      "['звонить' 'линия' 'горячий' 'номер' 'центр']\n",
      "cluster_labels 30\n",
      "['карта' 'кредитный' 'лимит' 'сбербанк' 'льготный']\n",
      "cluster_labels 31\n",
      "['не_приходить' 'пароль' 'вход' 'подтверждение' 'онлайн']\n",
      "cluster_labels 32\n",
      "['кредит' 'сбербанк' 'карта' 'кредитный' 'банка']\n",
      "cluster_labels 33\n",
      "['карта' 'деньга' 'заявление' 'сбербанк' 'сказать']\n",
      "cluster_labels 34\n",
      "['пароль' 'сбербанк' 'онлайн' 'вход' 'войти']\n",
      "cluster_labels 35\n",
      "['карта' 'сбербанк' 'счёт' 'деньга' 'перевод']\n",
      "cluster_labels 36\n",
      "['вклад' 'открыть' 'онлайн' 'счёт' 'сбербанк']\n",
      "cluster_labels 37\n",
      "['купюра' 'обменять' 'монета' 'рубль' 'сбербанк']\n",
      "cluster_labels 38\n",
      "['мошенник' 'группа' 'егор' 'орлов' 'страница']\n",
      "cluster_labels 39\n",
      "['перевод' 'карта' 'счёт' 'средство' 'сбербанк']\n",
      "cluster_labels 40\n",
      "['вклад' 'доверенность' 'счёт' 'сбербанк' 'сберкнижка']\n",
      "cluster_labels 41\n",
      "['номер' 'карта' 'телефон' 'сбербанк' 'привязать']\n",
      "cluster_labels 42\n",
      "['карта' 'срок' 'действие' 'заканчиваться' 'истечь']\n",
      "cluster_labels 43\n",
      "['карта' 'виза' 'дебетовый' 'молодёжный' 'обслуживание']\n",
      "cluster_labels 44\n",
      "['счёт' 'карта' 'узнать' 'номер' 'реквизит']\n",
      "cluster_labels 45\n",
      "['услуга' 'мобильный' 'отключить' 'банк' 'пакет']\n",
      "cluster_labels 46\n",
      "['ставка' 'процентный' 'ипотека' 'кредит' 'снизить']\n",
      "cluster_labels 47\n",
      "['сколько' 'карта' 'время' 'сбербанк' 'перевод']\n",
      "cluster_labels 48\n",
      "['ипотека' 'квартира' 'кредит' 'ипотечный' 'сбербанк']\n",
      "cluster_labels 49\n",
      "['комиссия' 'снятие' 'карта' 'банкомат' 'наличный']\n",
      "cluster_labels 50\n",
      "['киви' 'кошелёк' 'деньга' 'карта' 'яндекс']\n",
      "cluster_labels 51\n",
      "['карта' 'заказать' 'сбербанк' 'дебетовый' 'готовый']\n",
      "cluster_labels 52\n",
      "['сбербанк' 'клиент' 'карта' 'отношение' 'иметь']\n",
      "cluster_labels 53\n",
      "['заблокировать' 'карта' 'разблокировать' 'сбербанк' 'онлайн']\n",
      "cluster_labels 54\n",
      "['ипотека' 'капитал' 'квартира' 'материнский' 'первоначальный']\n",
      "cluster_labels 55\n",
      "['книжка' 'сберкнижка' 'деньга' 'счёт' 'сберегательный']\n",
      "cluster_labels 56\n",
      "['бонус' 'спасибо' 'балл' 'карта' 'сбербанк']\n",
      "cluster_labels 57\n",
      "['мобильный' 'банк' 'подключить' 'карта' 'отключить']\n",
      "cluster_labels 58\n",
      "['обращение' 'ответ' 'рассмотрение' 'заявление' 'претензия']\n",
      "cluster_labels 59\n",
      "['сотрудник' 'представляться' 'сбербанк' 'банка' 'мошенник']\n",
      "cluster_labels 60\n",
      "['акция' 'промый' 'сбербанк' 'победитель' 'сайт']\n",
      "cluster_labels 61\n",
      "['страховка' 'кредит' 'вернуть' 'досрочно' 'погасить']\n",
      "cluster_labels 62\n",
      "['кредит' 'доход' 'стаж' 'взять' 'справка']\n",
      "cluster_labels 63\n",
      "['карта' 'отделение' 'город' 'друг' 'получить']\n",
      "cluster_labels 64\n",
      "['купюра' 'обменять' 'монета' 'рубль' 'мелочь']\n",
      "cluster_labels 65\n",
      "['номер' 'карта' 'сбербанк' 'телефон' 'информация']\n",
      "cluster_labels 66\n",
      "['карта' 'новый' 'срок' 'фамилия' 'действие']\n",
      "cluster_labels 67\n",
      "['онлайн' 'сбербанк' 'кабинет' 'личный' 'карта']\n",
      "cluster_labels 68\n",
      "['платёж' 'оплата' 'сбербанк' 'онлайн' 'оплатить']\n",
      "cluster_labels 69\n",
      "['операция' 'карта' 'онлайн' 'ошибка' 'сбербанк']\n",
      "cluster_labels 70\n",
      "['деньга' 'карта' 'сбербанк' 'перевод' 'не_прислать']\n",
      "cluster_labels 71\n",
      "['вклад' 'ставка' 'процентный' 'процент' 'пополнять']\n",
      "cluster_labels 72\n",
      "['карта' 'оформить' 'кредитный' 'мочь' 'сбербанк']\n",
      "cluster_labels 73\n",
      "['не_приходить' 'пароль' 'приходить' 'онлайн' 'сбербанк']\n",
      "cluster_labels 74\n",
      "['банкомат' 'карта' 'деньга' 'сбербанк' 'терминал']\n",
      "cluster_labels 75\n",
      "['заявка' 'кредит' 'подать' 'одобрить' 'карта']\n",
      "cluster_labels 76\n",
      "['банкомат' 'карта' 'деньга' 'снять' 'сбербанк']\n",
      "cluster_labels 77\n",
      "['пенсия' 'карта' 'пособие' 'сбербанк' 'детский']\n",
      "cluster_labels 78\n",
      "['деньга' 'карта' 'перевести' 'вернуть' 'сбербанк']\n",
      "cluster_labels 79\n",
      "['сбербанк' 'карта' 'деньга' 'вопрос' 'банка']\n",
      "cluster_labels 80\n",
      "['писать' 'сбербанк' 'ошибка' 'не_допустимый' 'подозрительнва']\n",
      "cluster_labels 81\n",
      "['карта' 'сбербанк' 'обслуживание' 'дебетовый' 'счёт']\n",
      "cluster_labels 82\n",
      "['квитанция' 'оплатить' 'штраф' 'оплата' 'гибдд']\n",
      "cluster_labels 83\n",
      "['пароль' 'логин' 'онлайн' 'сбербанк' 'идентификатор']\n",
      "cluster_labels 84\n",
      "['украина' 'гражданин' 'карта' 'россия' 'открыть']\n",
      "cluster_labels 85\n",
      "['платёж' 'кредит' 'карта' 'сумма' 'кредитный']\n",
      "cluster_labels 86\n",
      "['карта' 'сбербанк' 'деньга' 'телефон' 'онлайн']\n",
      "cluster_labels 87\n",
      "['карта' 'деньга' 'перевести' 'сбербанк' 'счёт']\n",
      "cluster_labels 88\n",
      "['карта' 'сбербанк' 'деньга' 'банк' 'проблема']\n",
      "cluster_labels 89\n",
      "['лимит' 'карта' 'увеличить' 'кредитный' 'увеличение']\n",
      "cluster_labels 90\n",
      "['номер' 'привязать' 'телефон' 'карта' 'сменить']\n",
      "cluster_labels 91\n",
      "['отделение' 'сбербанк' 'адрес' 'подсказать' 'город']\n",
      "cluster_labels 92\n",
      "['работать' 'сбербанк' 'работа' 'праздник' 'отделение']\n",
      "cluster_labels 93\n",
      "['деньга' 'карта' 'магазин' 'возврат' 'покупка']\n",
      "cluster_labels 94\n",
      "['страхование' 'страховка' 'жизнь' 'договор' 'страховой']\n",
      "cluster_labels 95\n",
      "['вклад' 'открыть' 'цифровой' 'промокод' 'промый']\n",
      "cluster_labels 96\n",
      "['выписка' 'карта' 'операция' 'сбербанк' 'онлайн']\n",
      "cluster_labels 97\n",
      "['пенсия' 'кормилец' 'число' 'пособие' 'детский']\n",
      "cluster_labels 98\n",
      "['отключить' 'автоплатёж' 'услуга' 'мобильный' 'банк']\n",
      "cluster_labels 99\n",
      "['овердрафт' 'карта' 'списание' 'обслуживание' 'плата']\n"
     ]
    }
   ],
   "source": [
    "df_descr['top5_descriptions_words']=''\n",
    "for i in range(df_descr.shape[0]):\n",
    "    print('cluster_labels', df_descr['cluster_labels'][i])\n",
    "    print(get_top_term(5, i))\n",
    "    df_descr['top5_descriptions_words'].iloc[i]=get_top_term(5, i)"
   ]
  },
  {
   "cell_type": "code",
   "execution_count": null,
   "metadata": {},
   "outputs": [],
   "source": [
    "del(vocab)\n",
    "gc.collect()"
   ]
  },
  {
   "cell_type": "code",
   "execution_count": 51,
   "metadata": {},
   "outputs": [
    {
     "data": {
      "text/html": [
       "<div>\n",
       "<style scoped>\n",
       "    .dataframe tbody tr th:only-of-type {\n",
       "        vertical-align: middle;\n",
       "    }\n",
       "\n",
       "    .dataframe tbody tr th {\n",
       "        vertical-align: top;\n",
       "    }\n",
       "\n",
       "    .dataframe thead th {\n",
       "        text-align: right;\n",
       "    }\n",
       "</style>\n",
       "<table border=\"1\" class=\"dataframe\">\n",
       "  <thead>\n",
       "    <tr style=\"text-align: right;\">\n",
       "      <th></th>\n",
       "      <th>question</th>\n",
       "      <th>answer</th>\n",
       "      <th>cluster_labels</th>\n",
       "      <th>top5_descriptions_words</th>\n",
       "    </tr>\n",
       "  </thead>\n",
       "  <tbody>\n",
       "    <tr>\n",
       "      <th>0</th>\n",
       "      <td>кредитный карта моментум расплачиваться зарубе...</td>\n",
       "      <td>вы можете, использовать кредитую карту visa/...</td>\n",
       "      <td>13</td>\n",
       "      <td>[карта, магазин, интернет, покупка, оплата]</td>\n",
       "    </tr>\n",
       "    <tr>\n",
       "      <th>1</th>\n",
       "      <td>дебетный карта пришлый сообщение неразрешенный...</td>\n",
       "      <td>по данному вопросу вы можете обратиться в сл...</td>\n",
       "      <td>3</td>\n",
       "      <td>[арест, пристав, карта, деньга, счёт]</td>\n",
       "    </tr>\n",
       "    <tr>\n",
       "      <th>2</th>\n",
       "      <td>вопрос почему не_приходить пополнение карта ра...</td>\n",
       "      <td>по данному вопросу вы можете обратиться в сл...</td>\n",
       "      <td>57</td>\n",
       "      <td>[мобильный, банк, подключить, карта, отключить]</td>\n",
       "    </tr>\n",
       "    <tr>\n",
       "      <th>3</th>\n",
       "      <td>зарплатный карта пользоваться сбол кроме перев...</td>\n",
       "      <td>по данному вопросу вы можете обратиться в сл...</td>\n",
       "      <td>35</td>\n",
       "      <td>[карта, сбербанк, счёт, деньга, перевод]</td>\n",
       "    </tr>\n",
       "    <tr>\n",
       "      <th>4</th>\n",
       "      <td>здраствовать пришлый одобрить предворительный ...</td>\n",
       "      <td>потребительский кредит может быть выдан при ...</td>\n",
       "      <td>62</td>\n",
       "      <td>[кредит, доход, стаж, взять, справка]</td>\n",
       "    </tr>\n",
       "    <tr>\n",
       "      <th>5</th>\n",
       "      <td>заканчиваться срок действие карта быстро обмен...</td>\n",
       "      <td>александр, карта действует до последнего чи...</td>\n",
       "      <td>42</td>\n",
       "      <td>[карта, срок, действие, заканчиваться, истечь]</td>\n",
       "    </tr>\n",
       "    <tr>\n",
       "      <th>6</th>\n",
       "      <td>долго разблокировать карта обращение банк</td>\n",
       "      <td>сроки разблокировки карты вы можете уточнить...</td>\n",
       "      <td>58</td>\n",
       "      <td>[обращение, ответ, рассмотрение, заявление, пр...</td>\n",
       "    </tr>\n",
       "    <tr>\n",
       "      <th>7</th>\n",
       "      <td>сбербанк онлайн личный кабинет главный страниц...</td>\n",
       "      <td>на странице пенсионный фонд вы можете просмо...</td>\n",
       "      <td>35</td>\n",
       "      <td>[карта, сбербанк, счёт, деньга, перевод]</td>\n",
       "    </tr>\n",
       "    <tr>\n",
       "      <th>8</th>\n",
       "      <td>неподсказать курс золото сегодня</td>\n",
       "      <td>ознакомиться с котировкой драгоценных металл...</td>\n",
       "      <td>15</td>\n",
       "      <td>[курс, доллар, валюта, карта, конвертация]</td>\n",
       "    </tr>\n",
       "    <tr>\n",
       "      <th>9</th>\n",
       "      <td>уточнить пожалуйста адрес электронный почта мо...</td>\n",
       "      <td>оставить ваше обращение вы можете на сайте с...</td>\n",
       "      <td>58</td>\n",
       "      <td>[обращение, ответ, рассмотрение, заявление, пр...</td>\n",
       "    </tr>\n",
       "    <tr>\n",
       "      <th>10</th>\n",
       "      <td>хотеть задать вопрос подсказать пожалуйста под...</td>\n",
       "      <td>анастасия, в сбербанке россии заявку на полу...</td>\n",
       "      <td>75</td>\n",
       "      <td>[заявка, кредит, подать, одобрить, карта]</td>\n",
       "    </tr>\n",
       "    <tr>\n",
       "      <th>11</th>\n",
       "      <td>нужный консультация наш компания иметь расчётн...</td>\n",
       "      <td>по вопросу порядка оформления заявлений на п...</td>\n",
       "      <td>35</td>\n",
       "      <td>[карта, сбербанк, счёт, деньга, перевод]</td>\n",
       "    </tr>\n",
       "    <tr>\n",
       "      <th>12</th>\n",
       "      <td>карта молодёжный оплачивать покупка интернет</td>\n",
       "      <td>молодежная дебетовая карта тебе позволит: * ...</td>\n",
       "      <td>13</td>\n",
       "      <td>[карта, магазин, интернет, покупка, оплата]</td>\n",
       "    </tr>\n",
       "    <tr>\n",
       "      <th>13</th>\n",
       "      <td>зарплатный карта муж кредитка перекинуть деньг...</td>\n",
       "      <td>за перевод денежных средств на кредитную кар...</td>\n",
       "      <td>30</td>\n",
       "      <td>[карта, кредитный, лимит, сбербанк, льготный]</td>\n",
       "    </tr>\n",
       "    <tr>\n",
       "      <th>14</th>\n",
       "      <td>узнать баланс кредитный карта мобильный телефон</td>\n",
       "      <td>для того, чтобы узнать баланс по карте с пом...</td>\n",
       "      <td>1</td>\n",
       "      <td>[баланс, карта, деньга, рубль, пополнить]</td>\n",
       "    </tr>\n",
       "    <tr>\n",
       "      <th>15</th>\n",
       "      <td>оплачивать квартплата онлайн строка услуга кот...</td>\n",
       "      <td>для того, чтобы выяснить произошедшего, лучш...</td>\n",
       "      <td>68</td>\n",
       "      <td>[платёж, оплата, сбербанк, онлайн, оплатить]</td>\n",
       "    </tr>\n",
       "    <tr>\n",
       "      <th>16</th>\n",
       "      <td>хотеть поинтересоваться пятница получить карто...</td>\n",
       "      <td>как правило, лимит на карту зачисляется в т...</td>\n",
       "      <td>12</td>\n",
       "      <td>[карта, сбербанк, отделение, сказать, банка]</td>\n",
       "    </tr>\n",
       "    <tr>\n",
       "      <th>17</th>\n",
       "      <td>спасибо ответ не_подсказать претензия написать...</td>\n",
       "      <td>оставить ваше обращение вы можете на сайте с...</td>\n",
       "      <td>58</td>\n",
       "      <td>[обращение, ответ, рассмотрение, заявление, пр...</td>\n",
       "    </tr>\n",
       "    <tr>\n",
       "      <th>18</th>\n",
       "      <td>сказать пожалуйста деться услуга пополнение сч...</td>\n",
       "      <td>светлана, данный вопрос вам необходимо напра...</td>\n",
       "      <td>1</td>\n",
       "      <td>[баланс, карта, деньга, рубль, пополнить]</td>\n",
       "    </tr>\n",
       "    <tr>\n",
       "      <th>19</th>\n",
       "      <td>подсказать пожалуйста почему последний время п...</td>\n",
       "      <td>я рекомендую вам обратиться в службу помощи ...</td>\n",
       "      <td>16</td>\n",
       "      <td>[карта, деньга, сбербанк, сумма, счёт]</td>\n",
       "    </tr>\n",
       "    <tr>\n",
       "      <th>20</th>\n",
       "      <td>вопрос год открыть сберкнижка постановка учёт ...</td>\n",
       "      <td>айрат, по данному вопросу мы рекомендуем вам...</td>\n",
       "      <td>40</td>\n",
       "      <td>[вклад, доверенность, счёт, сбербанк, сберкнижка]</td>\n",
       "    </tr>\n",
       "    <tr>\n",
       "      <th>21</th>\n",
       "      <td>проблема такой необходимый перевести деньга ка...</td>\n",
       "      <td>александр, при переводе денежных средств со...</td>\n",
       "      <td>35</td>\n",
       "      <td>[карта, сбербанк, счёт, деньга, перевод]</td>\n",
       "    </tr>\n",
       "    <tr>\n",
       "      <th>22</th>\n",
       "      <td>кошмар ограбить сегодня утром пришлый телефон ...</td>\n",
       "      <td>технологии защиты операций в сбербанк онл@йн...</td>\n",
       "      <td>16</td>\n",
       "      <td>[карта, деньга, сбербанк, сумма, счёт]</td>\n",
       "    </tr>\n",
       "    <tr>\n",
       "      <th>23</th>\n",
       "      <td>отличие карта помимо моментум бесплатный неиме...</td>\n",
       "      <td>картой visa electron вы сможете совершать оп...</td>\n",
       "      <td>43</td>\n",
       "      <td>[карта, виза, дебетовый, молодёжный, обслужива...</td>\n",
       "    </tr>\n",
       "    <tr>\n",
       "      <th>24</th>\n",
       "      <td>сказать пожалуйста сообщать налоговый открытие...</td>\n",
       "      <td>по данному вопросу вы можете обратиться непо...</td>\n",
       "      <td>13</td>\n",
       "      <td>[карта, магазин, интернет, покупка, оплата]</td>\n",
       "    </tr>\n",
       "    <tr>\n",
       "      <th>25</th>\n",
       "      <td>прочитать сайт моментальный карта виза электро...</td>\n",
       "      <td>за обслуживание карты visa electron momentum...</td>\n",
       "      <td>43</td>\n",
       "      <td>[карта, виза, дебетовый, молодёжный, обслужива...</td>\n",
       "    </tr>\n",
       "    <tr>\n",
       "      <th>26</th>\n",
       "      <td>кома одобрять ипотека миллион риэлтор говорить...</td>\n",
       "      <td>возможность получения кредита необходимо уто...</td>\n",
       "      <td>48</td>\n",
       "      <td>[ипотека, квартира, кредит, ипотечный, сбербанк]</td>\n",
       "    </tr>\n",
       "    <tr>\n",
       "      <th>27</th>\n",
       "      <td>хотеть взять потребительский кредит ваш банка ...</td>\n",
       "      <td>потребительский кредит может быть выдан при ...</td>\n",
       "      <td>11</td>\n",
       "      <td>[кредит, потребительский, взять, тысяча, процент]</td>\n",
       "    </tr>\n",
       "    <tr>\n",
       "      <th>28</th>\n",
       "      <td>подсказать пожалуйста возможно совершить перев...</td>\n",
       "      <td>возможность осуществлять перевод с кредитной...</td>\n",
       "      <td>5</td>\n",
       "      <td>[комиссия, карта, перевод, сбербанк, деньга]</td>\n",
       "    </tr>\n",
       "    <tr>\n",
       "      <th>29</th>\n",
       "      <td>спасибо процент идти снятие наличный</td>\n",
       "      <td>виталий, за обналичивание денежных средств с...</td>\n",
       "      <td>49</td>\n",
       "      <td>[комиссия, снятие, карта, банкомат, наличный]</td>\n",
       "    </tr>\n",
       "    <tr>\n",
       "      <th>...</th>\n",
       "      <td>...</td>\n",
       "      <td>...</td>\n",
       "      <td>...</td>\n",
       "      <td>...</td>\n",
       "    </tr>\n",
       "    <tr>\n",
       "      <th>40087</th>\n",
       "      <td>заблокировать старый карта выпустить новый бон...</td>\n",
       "      <td>в ответ на ваше обращение сообщаем, что если ...</td>\n",
       "      <td>66</td>\n",
       "      <td>[карта, новый, срок, фамилия, действие]</td>\n",
       "    </tr>\n",
       "    <tr>\n",
       "      <th>40088</th>\n",
       "      <td>хотеть уточнить какой крупный банка сотруднича...</td>\n",
       "      <td>ознакомиться с официальной информацией о наше...</td>\n",
       "      <td>79</td>\n",
       "      <td>[сбербанк, карта, деньга, вопрос, банка]</td>\n",
       "    </tr>\n",
       "    <tr>\n",
       "      <th>40089</th>\n",
       "      <td>вчера задавать вопрос сюда подсказать пожалуйс...</td>\n",
       "      <td>напишите, пожалуйста, номер вашего обращения....</td>\n",
       "      <td>4</td>\n",
       "      <td>[сбербанк, карта, сотрудник, банка, вопрос]</td>\n",
       "    </tr>\n",
       "    <tr>\n",
       "      <th>40090</th>\n",
       "      <td>вклад счёт свободный распоряжение деньга начис...</td>\n",
       "      <td>это зависит от суммы, которую вы можете остав...</td>\n",
       "      <td>20</td>\n",
       "      <td>[процент, сумма, карта, рубль, вклад]</td>\n",
       "    </tr>\n",
       "    <tr>\n",
       "      <th>40091</th>\n",
       "      <td>проконтролировать сумма операция именно делать...</td>\n",
       "      <td>операции пополнения копилки происходят после ...</td>\n",
       "      <td>16</td>\n",
       "      <td>[карта, деньга, сбербанк, сумма, счёт]</td>\n",
       "    </tr>\n",
       "    <tr>\n",
       "      <th>40092</th>\n",
       "      <td>хотеть узнать карта сбербанк платный нужно пок...</td>\n",
       "      <td>сбербанк предлагает широкий выбор карт. есть ...</td>\n",
       "      <td>81</td>\n",
       "      <td>[карта, сбербанк, обслуживание, дебетовый, счёт]</td>\n",
       "    </tr>\n",
       "    <tr>\n",
       "      <th>40093</th>\n",
       "      <td>взиматься комиссия внесение средство счёт свой...</td>\n",
       "      <td>за внесение денег в другом регионе может взим...</td>\n",
       "      <td>49</td>\n",
       "      <td>[комиссия, снятие, карта, банкомат, наличный]</td>\n",
       "    </tr>\n",
       "    <tr>\n",
       "      <th>40094</th>\n",
       "      <td>сказать пожалуйста перевести деньга карта сбер...</td>\n",
       "      <td>конечно, для этого во вкладке «платежи и пере...</td>\n",
       "      <td>55</td>\n",
       "      <td>[книжка, сберкнижка, деньга, счёт, сберегатель...</td>\n",
       "    </tr>\n",
       "    <tr>\n",
       "      <th>40095</th>\n",
       "      <td>подскажитет связаться служба безопасность арес...</td>\n",
       "      <td>в вопросах ареста по счетам клиентов банк выс...</td>\n",
       "      <td>4</td>\n",
       "      <td>[сбербанк, карта, сотрудник, банка, вопрос]</td>\n",
       "    </tr>\n",
       "    <tr>\n",
       "      <th>40096</th>\n",
       "      <td>составление пароль сбербанк онлайн использоват...</td>\n",
       "      <td>при составлении логина для сбербанк онлайн бу...</td>\n",
       "      <td>83</td>\n",
       "      <td>[пароль, логин, онлайн, сбербанк, идентификатор]</td>\n",
       "    </tr>\n",
       "    <tr>\n",
       "      <th>40097</th>\n",
       "      <td>дата открытие вклад добрый продлить</td>\n",
       "      <td>вклад «добрый год» можно было открыть с 08.12...</td>\n",
       "      <td>71</td>\n",
       "      <td>[вклад, ставка, процентный, процент, пополнять]</td>\n",
       "    </tr>\n",
       "    <tr>\n",
       "      <th>40098</th>\n",
       "      <td>подсказать начать менять карта астрахань</td>\n",
       "      <td>платежная система «мир» была задумана как рос...</td>\n",
       "      <td>12</td>\n",
       "      <td>[карта, сбербанк, отделение, сказать, банка]</td>\n",
       "    </tr>\n",
       "    <tr>\n",
       "      <th>40099</th>\n",
       "      <td>простить влезть диалог какой бесплатный карта ...</td>\n",
       "      <td>в нашем банке можно получить международную ка...</td>\n",
       "      <td>81</td>\n",
       "      <td>[карта, сбербанк, обслуживание, дебетовый, счёт]</td>\n",
       "    </tr>\n",
       "    <tr>\n",
       "      <th>40100</th>\n",
       "      <td>такой автоплатёж апсс</td>\n",
       "      <td>уточните, пожалуйста, где вы увидели эту инфо...</td>\n",
       "      <td>45</td>\n",
       "      <td>[услуга, мобильный, отключить, банк, пакет]</td>\n",
       "    </tr>\n",
       "    <tr>\n",
       "      <th>40101</th>\n",
       "      <td>сказать пожалуйста посмотреть тарифный план мо...</td>\n",
       "      <td>уточнить название вашего тарифного плана можн...</td>\n",
       "      <td>81</td>\n",
       "      <td>[карта, сбербанк, обслуживание, дебетовый, счёт]</td>\n",
       "    </tr>\n",
       "    <tr>\n",
       "      <th>40102</th>\n",
       "      <td>оформить потребительский кредит ваш банка офор...</td>\n",
       "      <td>в банке нет ограничений на количество получен...</td>\n",
       "      <td>19</td>\n",
       "      <td>[кредит, взять, сбербанк, потребительский, сумма]</td>\n",
       "    </tr>\n",
       "    <tr>\n",
       "      <th>40103</th>\n",
       "      <td>подсказать посмотреть информация вакансия мыть...</td>\n",
       "      <td>ответ на вопросы о вакансиях банка и возможно...</td>\n",
       "      <td>91</td>\n",
       "      <td>[отделение, сбербанк, адрес, подсказать, город]</td>\n",
       "    </tr>\n",
       "    <tr>\n",
       "      <th>40104</th>\n",
       "      <td>подсказать пожалуйста срок получение постановл...</td>\n",
       "      <td>постановление о снятии ареста может быть напр...</td>\n",
       "      <td>3</td>\n",
       "      <td>[арест, пристав, карта, деньга, счёт]</td>\n",
       "    </tr>\n",
       "    <tr>\n",
       "      <th>40105</th>\n",
       "      <td>очень хотеться узнать поддерживать карта ваш б...</td>\n",
       "      <td>как только будет принято решение о запуске сер...</td>\n",
       "      <td>79</td>\n",
       "      <td>[сбербанк, карта, деньга, вопрос, банка]</td>\n",
       "    </tr>\n",
       "    <tr>\n",
       "      <th>40106</th>\n",
       "      <td></td>\n",
       "      <td>спасибо за уведомление, мы направим аккаунты ...</td>\n",
       "      <td>79</td>\n",
       "      <td>[сбербанк, карта, деньга, вопрос, банка]</td>\n",
       "    </tr>\n",
       "    <tr>\n",
       "      <th>40107</th>\n",
       "      <td>хотеть узнать пользоваться мобильный банк скин...</td>\n",
       "      <td>срок перевода зависит от его типа и может зан...</td>\n",
       "      <td>78</td>\n",
       "      <td>[деньга, карта, перевести, вернуть, сбербанк]</td>\n",
       "    </tr>\n",
       "    <tr>\n",
       "      <th>40108</th>\n",
       "      <td>карта сбербанк истечь срок действие давно новы...</td>\n",
       "      <td>срок возврата средств обусловлен требованиями...</td>\n",
       "      <td>14</td>\n",
       "      <td>[карта, деньга, заблокировать, снять, счёт]</td>\n",
       "    </tr>\n",
       "    <tr>\n",
       "      <th>40109</th>\n",
       "      <td>дедушка хотеть оформить пенсионный карта полож...</td>\n",
       "      <td>по пенсионной карте начисляется 3,5% годовых...</td>\n",
       "      <td>77</td>\n",
       "      <td>[пенсия, карта, пособие, сбербанк, детский]</td>\n",
       "    </tr>\n",
       "    <tr>\n",
       "      <th>40110</th>\n",
       "      <td>подсказать какой образ отключить номер</td>\n",
       "      <td>отключить услугу мобильный банк можно только ...</td>\n",
       "      <td>41</td>\n",
       "      <td>[номер, карта, телефон, сбербанк, привязать]</td>\n",
       "    </tr>\n",
       "    <tr>\n",
       "      <th>40111</th>\n",
       "      <td>карта сбербанк истечь срок действие давно новы...</td>\n",
       "      <td>нам очень жаль, что вы столкнулись с такой с...</td>\n",
       "      <td>14</td>\n",
       "      <td>[карта, деньга, заблокировать, снять, счёт]</td>\n",
       "    </tr>\n",
       "    <tr>\n",
       "      <th>40112</th>\n",
       "      <td>нужно сделать лайна перевод мой карта сбербанк...</td>\n",
       "      <td>перевод по номеру карты на карты других банк...</td>\n",
       "      <td>39</td>\n",
       "      <td>[перевод, карта, счёт, средство, сбербанк]</td>\n",
       "    </tr>\n",
       "    <tr>\n",
       "      <th>40113</th>\n",
       "      <td>истечь срок действие кредитный карта сбербанк ...</td>\n",
       "      <td>поскольку новая карта ещё не получена вами, т...</td>\n",
       "      <td>66</td>\n",
       "      <td>[карта, новый, срок, фамилия, действие]</td>\n",
       "    </tr>\n",
       "    <tr>\n",
       "      <th>40114</th>\n",
       "      <td>какой документ кроме паспорт необходимый гражд...</td>\n",
       "      <td>для открытия счёта в нашем банке необходимо п...</td>\n",
       "      <td>84</td>\n",
       "      <td>[украина, гражданин, карта, россия, открыть]</td>\n",
       "    </tr>\n",
       "    <tr>\n",
       "      <th>40115</th>\n",
       "      <td>произойти путаница карта общий социальный карт...</td>\n",
       "      <td>при оформлении новой карты кодовое слово меня...</td>\n",
       "      <td>14</td>\n",
       "      <td>[карта, деньга, заблокировать, снять, счёт]</td>\n",
       "    </tr>\n",
       "    <tr>\n",
       "      <th>40116</th>\n",
       "      <td>зарплата получать ваш карта хотеть оформить ип...</td>\n",
       "      <td>сложно сказать, какое решение примет банк при...</td>\n",
       "      <td>19</td>\n",
       "      <td>[кредит, взять, сбербанк, потребительский, сумма]</td>\n",
       "    </tr>\n",
       "  </tbody>\n",
       "</table>\n",
       "<p>40117 rows × 4 columns</p>\n",
       "</div>"
      ],
      "text/plain": [
       "                                                question  \\\n",
       "0      кредитный карта моментум расплачиваться зарубе...   \n",
       "1      дебетный карта пришлый сообщение неразрешенный...   \n",
       "2      вопрос почему не_приходить пополнение карта ра...   \n",
       "3      зарплатный карта пользоваться сбол кроме перев...   \n",
       "4      здраствовать пришлый одобрить предворительный ...   \n",
       "5      заканчиваться срок действие карта быстро обмен...   \n",
       "6              долго разблокировать карта обращение банк   \n",
       "7      сбербанк онлайн личный кабинет главный страниц...   \n",
       "8                       неподсказать курс золото сегодня   \n",
       "9      уточнить пожалуйста адрес электронный почта мо...   \n",
       "10     хотеть задать вопрос подсказать пожалуйста под...   \n",
       "11     нужный консультация наш компания иметь расчётн...   \n",
       "12          карта молодёжный оплачивать покупка интернет   \n",
       "13     зарплатный карта муж кредитка перекинуть деньг...   \n",
       "14       узнать баланс кредитный карта мобильный телефон   \n",
       "15     оплачивать квартплата онлайн строка услуга кот...   \n",
       "16     хотеть поинтересоваться пятница получить карто...   \n",
       "17     спасибо ответ не_подсказать претензия написать...   \n",
       "18     сказать пожалуйста деться услуга пополнение сч...   \n",
       "19     подсказать пожалуйста почему последний время п...   \n",
       "20     вопрос год открыть сберкнижка постановка учёт ...   \n",
       "21     проблема такой необходимый перевести деньга ка...   \n",
       "22     кошмар ограбить сегодня утром пришлый телефон ...   \n",
       "23     отличие карта помимо моментум бесплатный неиме...   \n",
       "24     сказать пожалуйста сообщать налоговый открытие...   \n",
       "25     прочитать сайт моментальный карта виза электро...   \n",
       "26     кома одобрять ипотека миллион риэлтор говорить...   \n",
       "27     хотеть взять потребительский кредит ваш банка ...   \n",
       "28     подсказать пожалуйста возможно совершить перев...   \n",
       "29                  спасибо процент идти снятие наличный   \n",
       "...                                                  ...   \n",
       "40087  заблокировать старый карта выпустить новый бон...   \n",
       "40088  хотеть уточнить какой крупный банка сотруднича...   \n",
       "40089  вчера задавать вопрос сюда подсказать пожалуйс...   \n",
       "40090  вклад счёт свободный распоряжение деньга начис...   \n",
       "40091  проконтролировать сумма операция именно делать...   \n",
       "40092  хотеть узнать карта сбербанк платный нужно пок...   \n",
       "40093  взиматься комиссия внесение средство счёт свой...   \n",
       "40094  сказать пожалуйста перевести деньга карта сбер...   \n",
       "40095  подскажитет связаться служба безопасность арес...   \n",
       "40096  составление пароль сбербанк онлайн использоват...   \n",
       "40097                дата открытие вклад добрый продлить   \n",
       "40098           подсказать начать менять карта астрахань   \n",
       "40099  простить влезть диалог какой бесплатный карта ...   \n",
       "40100                              такой автоплатёж апсс   \n",
       "40101  сказать пожалуйста посмотреть тарифный план мо...   \n",
       "40102  оформить потребительский кредит ваш банка офор...   \n",
       "40103  подсказать посмотреть информация вакансия мыть...   \n",
       "40104  подсказать пожалуйста срок получение постановл...   \n",
       "40105  очень хотеться узнать поддерживать карта ваш б...   \n",
       "40106                                                      \n",
       "40107  хотеть узнать пользоваться мобильный банк скин...   \n",
       "40108  карта сбербанк истечь срок действие давно новы...   \n",
       "40109  дедушка хотеть оформить пенсионный карта полож...   \n",
       "40110             подсказать какой образ отключить номер   \n",
       "40111  карта сбербанк истечь срок действие давно новы...   \n",
       "40112  нужно сделать лайна перевод мой карта сбербанк...   \n",
       "40113  истечь срок действие кредитный карта сбербанк ...   \n",
       "40114  какой документ кроме паспорт необходимый гражд...   \n",
       "40115  произойти путаница карта общий социальный карт...   \n",
       "40116  зарплата получать ваш карта хотеть оформить ип...   \n",
       "\n",
       "                                                  answer  cluster_labels  \\\n",
       "0        вы можете, использовать кредитую карту visa/...              13   \n",
       "1        по данному вопросу вы можете обратиться в сл...               3   \n",
       "2        по данному вопросу вы можете обратиться в сл...              57   \n",
       "3        по данному вопросу вы можете обратиться в сл...              35   \n",
       "4        потребительский кредит может быть выдан при ...              62   \n",
       "5         александр, карта действует до последнего чи...              42   \n",
       "6        сроки разблокировки карты вы можете уточнить...              58   \n",
       "7        на странице пенсионный фонд вы можете просмо...              35   \n",
       "8        ознакомиться с котировкой драгоценных металл...              15   \n",
       "9        оставить ваше обращение вы можете на сайте с...              58   \n",
       "10       анастасия, в сбербанке россии заявку на полу...              75   \n",
       "11       по вопросу порядка оформления заявлений на п...              35   \n",
       "12       молодежная дебетовая карта тебе позволит: * ...              13   \n",
       "13       за перевод денежных средств на кредитную кар...              30   \n",
       "14       для того, чтобы узнать баланс по карте с пом...               1   \n",
       "15       для того, чтобы выяснить произошедшего, лучш...              68   \n",
       "16        как правило, лимит на карту зачисляется в т...              12   \n",
       "17       оставить ваше обращение вы можете на сайте с...              58   \n",
       "18       светлана, данный вопрос вам необходимо напра...               1   \n",
       "19       я рекомендую вам обратиться в службу помощи ...              16   \n",
       "20       айрат, по данному вопросу мы рекомендуем вам...              40   \n",
       "21        александр, при переводе денежных средств со...              35   \n",
       "22       технологии защиты операций в сбербанк онл@йн...              16   \n",
       "23       картой visa electron вы сможете совершать оп...              43   \n",
       "24       по данному вопросу вы можете обратиться непо...              13   \n",
       "25       за обслуживание карты visa electron momentum...              43   \n",
       "26       возможность получения кредита необходимо уто...              48   \n",
       "27       потребительский кредит может быть выдан при ...              11   \n",
       "28       возможность осуществлять перевод с кредитной...               5   \n",
       "29       виталий, за обналичивание денежных средств с...              49   \n",
       "...                                                  ...             ...   \n",
       "40087   в ответ на ваше обращение сообщаем, что если ...              66   \n",
       "40088   ознакомиться с официальной информацией о наше...              79   \n",
       "40089   напишите, пожалуйста, номер вашего обращения....               4   \n",
       "40090   это зависит от суммы, которую вы можете остав...              20   \n",
       "40091   операции пополнения копилки происходят после ...              16   \n",
       "40092   сбербанк предлагает широкий выбор карт. есть ...              81   \n",
       "40093   за внесение денег в другом регионе может взим...              49   \n",
       "40094   конечно, для этого во вкладке «платежи и пере...              55   \n",
       "40095   в вопросах ареста по счетам клиентов банк выс...               4   \n",
       "40096   при составлении логина для сбербанк онлайн бу...              83   \n",
       "40097   вклад «добрый год» можно было открыть с 08.12...              71   \n",
       "40098   платежная система «мир» была задумана как рос...              12   \n",
       "40099   в нашем банке можно получить международную ка...              81   \n",
       "40100   уточните, пожалуйста, где вы увидели эту инфо...              45   \n",
       "40101   уточнить название вашего тарифного плана можн...              81   \n",
       "40102   в банке нет ограничений на количество получен...              19   \n",
       "40103   ответ на вопросы о вакансиях банка и возможно...              91   \n",
       "40104   постановление о снятии ареста может быть напр...               3   \n",
       "40105  как только будет принято решение о запуске сер...              79   \n",
       "40106   спасибо за уведомление, мы направим аккаунты ...              79   \n",
       "40107   срок перевода зависит от его типа и может зан...              78   \n",
       "40108   срок возврата средств обусловлен требованиями...              14   \n",
       "40109    по пенсионной карте начисляется 3,5% годовых...              77   \n",
       "40110   отключить услугу мобильный банк можно только ...              41   \n",
       "40111    нам очень жаль, что вы столкнулись с такой с...              14   \n",
       "40112    перевод по номеру карты на карты других банк...              39   \n",
       "40113   поскольку новая карта ещё не получена вами, т...              66   \n",
       "40114   для открытия счёта в нашем банке необходимо п...              84   \n",
       "40115   при оформлении новой карты кодовое слово меня...              14   \n",
       "40116   сложно сказать, какое решение примет банк при...              19   \n",
       "\n",
       "                                 top5_descriptions_words  \n",
       "0            [карта, магазин, интернет, покупка, оплата]  \n",
       "1                  [арест, пристав, карта, деньга, счёт]  \n",
       "2        [мобильный, банк, подключить, карта, отключить]  \n",
       "3               [карта, сбербанк, счёт, деньга, перевод]  \n",
       "4                  [кредит, доход, стаж, взять, справка]  \n",
       "5         [карта, срок, действие, заканчиваться, истечь]  \n",
       "6      [обращение, ответ, рассмотрение, заявление, пр...  \n",
       "7               [карта, сбербанк, счёт, деньга, перевод]  \n",
       "8             [курс, доллар, валюта, карта, конвертация]  \n",
       "9      [обращение, ответ, рассмотрение, заявление, пр...  \n",
       "10             [заявка, кредит, подать, одобрить, карта]  \n",
       "11              [карта, сбербанк, счёт, деньга, перевод]  \n",
       "12           [карта, магазин, интернет, покупка, оплата]  \n",
       "13         [карта, кредитный, лимит, сбербанк, льготный]  \n",
       "14             [баланс, карта, деньга, рубль, пополнить]  \n",
       "15          [платёж, оплата, сбербанк, онлайн, оплатить]  \n",
       "16          [карта, сбербанк, отделение, сказать, банка]  \n",
       "17     [обращение, ответ, рассмотрение, заявление, пр...  \n",
       "18             [баланс, карта, деньга, рубль, пополнить]  \n",
       "19                [карта, деньга, сбербанк, сумма, счёт]  \n",
       "20     [вклад, доверенность, счёт, сбербанк, сберкнижка]  \n",
       "21              [карта, сбербанк, счёт, деньга, перевод]  \n",
       "22                [карта, деньга, сбербанк, сумма, счёт]  \n",
       "23     [карта, виза, дебетовый, молодёжный, обслужива...  \n",
       "24           [карта, магазин, интернет, покупка, оплата]  \n",
       "25     [карта, виза, дебетовый, молодёжный, обслужива...  \n",
       "26      [ипотека, квартира, кредит, ипотечный, сбербанк]  \n",
       "27     [кредит, потребительский, взять, тысяча, процент]  \n",
       "28          [комиссия, карта, перевод, сбербанк, деньга]  \n",
       "29         [комиссия, снятие, карта, банкомат, наличный]  \n",
       "...                                                  ...  \n",
       "40087            [карта, новый, срок, фамилия, действие]  \n",
       "40088           [сбербанк, карта, деньга, вопрос, банка]  \n",
       "40089        [сбербанк, карта, сотрудник, банка, вопрос]  \n",
       "40090              [процент, сумма, карта, рубль, вклад]  \n",
       "40091             [карта, деньга, сбербанк, сумма, счёт]  \n",
       "40092   [карта, сбербанк, обслуживание, дебетовый, счёт]  \n",
       "40093      [комиссия, снятие, карта, банкомат, наличный]  \n",
       "40094  [книжка, сберкнижка, деньга, счёт, сберегатель...  \n",
       "40095        [сбербанк, карта, сотрудник, банка, вопрос]  \n",
       "40096   [пароль, логин, онлайн, сбербанк, идентификатор]  \n",
       "40097    [вклад, ставка, процентный, процент, пополнять]  \n",
       "40098       [карта, сбербанк, отделение, сказать, банка]  \n",
       "40099   [карта, сбербанк, обслуживание, дебетовый, счёт]  \n",
       "40100        [услуга, мобильный, отключить, банк, пакет]  \n",
       "40101   [карта, сбербанк, обслуживание, дебетовый, счёт]  \n",
       "40102  [кредит, взять, сбербанк, потребительский, сумма]  \n",
       "40103    [отделение, сбербанк, адрес, подсказать, город]  \n",
       "40104              [арест, пристав, карта, деньга, счёт]  \n",
       "40105           [сбербанк, карта, деньга, вопрос, банка]  \n",
       "40106           [сбербанк, карта, деньга, вопрос, банка]  \n",
       "40107      [деньга, карта, перевести, вернуть, сбербанк]  \n",
       "40108        [карта, деньга, заблокировать, снять, счёт]  \n",
       "40109        [пенсия, карта, пособие, сбербанк, детский]  \n",
       "40110       [номер, карта, телефон, сбербанк, привязать]  \n",
       "40111        [карта, деньга, заблокировать, снять, счёт]  \n",
       "40112         [перевод, карта, счёт, средство, сбербанк]  \n",
       "40113            [карта, новый, срок, фамилия, действие]  \n",
       "40114       [украина, гражданин, карта, россия, открыть]  \n",
       "40115        [карта, деньга, заблокировать, снять, счёт]  \n",
       "40116  [кредит, взять, сбербанк, потребительский, сумма]  \n",
       "\n",
       "[40117 rows x 4 columns]"
      ]
     },
     "execution_count": 51,
     "metadata": {},
     "output_type": "execute_result"
    }
   ],
   "source": [
    "df#.drop(['top5_descriptions_words_x','top5_descriptions_words_y'], axis=1, inplace=True)"
   ]
  },
  {
   "cell_type": "code",
   "execution_count": 48,
   "metadata": {},
   "outputs": [],
   "source": [
    "df=df.merge(df_descr[['cluster_labels','top5_descriptions_words']], how='left', on='cluster_labels')"
   ]
  },
  {
   "cell_type": "code",
   "execution_count": 52,
   "metadata": {},
   "outputs": [],
   "source": [
    "vk_data=pd.read_csv('vk.csv', index_col=0)"
   ]
  },
  {
   "cell_type": "code",
   "execution_count": 53,
   "metadata": {},
   "outputs": [],
   "source": [
    "vk_data['cluster_labels']=df['cluster_labels']\n",
    "vk_data['top5_descriptions_words']=df['top5_descriptions_words']"
   ]
  },
  {
   "cell_type": "code",
   "execution_count": 81,
   "metadata": {},
   "outputs": [],
   "source": [
    "#создадим базу тем\n",
    "(df[['cluster_labels','top5_descriptions_words']].sort_values(by='cluster_labels')['top5_descriptions_words'].drop_duplicates().reset_index()).to_json('themes_base.json', orient='records')"
   ]
  },
  {
   "cell_type": "code",
   "execution_count": 54,
   "metadata": {},
   "outputs": [],
   "source": [
    "vk_data.to_csv('vk.csv')"
   ]
  },
  {
   "cell_type": "code",
   "execution_count": 148,
   "metadata": {},
   "outputs": [
    {
     "data": {
      "text/plain": [
       "40"
      ]
     },
     "execution_count": 148,
     "metadata": {},
     "output_type": "execute_result"
    }
   ],
   "source": [
    "kmeans.predict([w2v_train[40097]])[0]"
   ]
  },
  {
   "cell_type": "markdown",
   "metadata": {},
   "source": [
    "### LDA gensim\n",
    "1. Идея для soft кластеризации через LDA|LSI\n",
    "2. Попробовал, но перплексия такая себе"
   ]
  },
  {
   "cell_type": "code",
   "execution_count": 41,
   "metadata": {},
   "outputs": [],
   "source": [
    "from gensim import corpora, models\n",
    "from gensim.corpora.dictionary import Dictionary\n",
    "from gensim.models import CoherenceModel\n",
    "from pprint import pprint"
   ]
  },
  {
   "cell_type": "code",
   "execution_count": 46,
   "metadata": {},
   "outputs": [],
   "source": [
    "id2word = corpora.Dictionary(list(df['question'].str.split()))"
   ]
  },
  {
   "cell_type": "code",
   "execution_count": 50,
   "metadata": {},
   "outputs": [],
   "source": [
    "common_corpus = [id2word.doc2bow(text) for text in list(df['question'].str.split())]"
   ]
  },
  {
   "cell_type": "code",
   "execution_count": 60,
   "metadata": {},
   "outputs": [],
   "source": [
    "# Train the model on the corpus.\n",
    "lda = models.ldamodel.LdaModel(corpus=common_corpus,\n",
    "                                           id2word=id2word,\n",
    "                                           num_topics=200, \n",
    "                                           random_state=100,\n",
    "                                           update_every=1,\n",
    "                                           chunksize=2000,\n",
    "                                           passes=10,\n",
    "                                           alpha='auto',\n",
    "                                           per_word_topics=True)"
   ]
  },
  {
   "cell_type": "code",
   "execution_count": 61,
   "metadata": {
    "scrolled": true
   },
   "outputs": [
    {
     "name": "stdout",
     "output_type": "stream",
     "text": [
      "[(78,\n",
      "  '0.193*\"свободный\" + 0.154*\"питер\" + 0.092*\"пинкод\" + 0.066*\"нуль\" + '\n",
      "  '0.065*\"отключать\" + 0.046*\"не_туда\" + 0.035*\"хоум\" + 0.027*\"признательный\" '\n",
      "  '+ 0.021*\"сперва\" + 0.019*\"питерский\"'),\n",
      " (116,\n",
      "  '0.176*\"восстановление\" + 0.172*\"практика\" + 0.140*\"контора\" + '\n",
      "  '0.119*\"единственный\" + 0.088*\"отвязать\" + 0.042*\"эквайринг\" + '\n",
      "  '0.026*\"волновать\" + 0.025*\"хотеть\" + 0.018*\"не_обнаружить\" + '\n",
      "  '0.012*\"делать\"'),\n",
      " (80,\n",
      "  '0.168*\"именной\" + 0.165*\"придумать\" + 0.074*\"карта\" + 0.064*\"норма\" + '\n",
      "  '0.052*\"вообщий\" + 0.050*\"четверг\" + 0.035*\"нулевой\" + '\n",
      "  '0.032*\"территориальный\" + 0.030*\"учитывать\" + 0.028*\"волгоград\"'),\n",
      " (143,\n",
      "  '0.161*\"пять\" + 0.154*\"выплачивать\" + 0.115*\"работодатель\" + '\n",
      "  '0.077*\"неизвестно\" + 0.072*\"скорый\" + 0.037*\"защитить\" + 0.037*\"закрой\" + '\n",
      "  '0.025*\"событие\" + 0.024*\"бог\" + 0.021*\"не_идти\"'),\n",
      " (118,\n",
      "  '0.128*\"оформляться\" + 0.109*\"чужой\" + 0.104*\"устроиться\" + '\n",
      "  '0.100*\"присылать\" + 0.040*\"владимир\" + 0.039*\"сбербанк\" + 0.038*\"отследить\" '\n",
      "  '+ 0.037*\"не_активировать\" + 0.035*\"довольно\" + 0.024*\"служить\"'),\n",
      " (141,\n",
      "  '0.268*\"высвечиваться\" + 0.131*\"самостоятельно\" + 0.062*\"нажать\" + '\n",
      "  '0.061*\"алименты\" + 0.061*\"не_менее\" + 0.050*\"изначально\" + '\n",
      "  '0.044*\"говориться\" + 0.044*\"сломать\" + 0.037*\"окошко\" + 0.034*\"взымаяться\"'),\n",
      " (184,\n",
      "  '0.286*\"не_дойти\" + 0.117*\"окно\" + 0.106*\"деньга\" + 0.074*\"экран\" + '\n",
      "  '0.053*\"покупатель\" + 0.050*\"отклонить\" + 0.027*\"съездить\" + '\n",
      "  '0.026*\"переживать\" + 0.019*\"подарить\" + 0.018*\"отправление\"'),\n",
      " (176,\n",
      "  '0.182*\"не_получиться\" + 0.148*\"сходить\" + 0.109*\"личность\" + '\n",
      "  '0.080*\"доставить\" + 0.059*\"обмануть\" + 0.056*\"удостоверение\" + '\n",
      "  '0.024*\"соединение\" + 0.022*\"информационный\" + 0.022*\"напрямую\" + '\n",
      "  '0.020*\"повредить\"'),\n",
      " (147,\n",
      "  '0.342*\"пенсионный\" + 0.234*\"пункт\" + 0.088*\"фонд\" + 0.033*\"визит\" + '\n",
      "  '0.025*\"обед\" + 0.025*\"транспортный\" + 0.017*\"калининград\" + '\n",
      "  '0.017*\"не_отражаться\" + 0.016*\"ящик\" + 0.015*\"сбербанк\"'),\n",
      " (197,\n",
      "  '0.244*\"старое\" + 0.121*\"комментарий\" + 0.080*\"накануне\" + '\n",
      "  '0.051*\"принадлежать\" + 0.033*\"собрать\" + 0.030*\"предусмотреть\" + '\n",
      "  '0.026*\"продлиться\" + 0.024*\"инициатива\" + 0.022*\"эмитент\" + '\n",
      "  '0.018*\"пониженный\"'),\n",
      " (59,\n",
      "  '0.311*\"карта\" + 0.190*\"оформить\" + 0.117*\"дебетовый\" + 0.069*\"молодёжный\" + '\n",
      "  '0.053*\"дизайн\" + 0.035*\"индивидуальный\" + 0.034*\"мочь\" + 0.026*\"хотеть\" + '\n",
      "  '0.021*\"заказывать\" + 0.019*\"сказать\"'),\n",
      " (113,\n",
      "  '0.679*\"какой\" + 0.061*\"образ\" + 0.050*\"нужно\" + 0.041*\"обязательно\" + '\n",
      "  '0.036*\"мочь\" + 0.035*\"заново\" + 0.026*\"апрель\" + 0.013*\"активация\" + '\n",
      "  '0.011*\"госпошлина\" + 0.011*\"сбербанк\"'),\n",
      " (30,\n",
      "  '0.421*\"онлайн\" + 0.326*\"сбербанк\" + 0.056*\"зайти\" + 0.027*\"появиться\" + '\n",
      "  '0.026*\"сделать\" + 0.026*\"снова\" + 0.024*\"мочь\" + 0.022*\"делать\" + '\n",
      "  '0.020*\"карта\" + 0.010*\"утерять\"'),\n",
      " (183,\n",
      "  '0.344*\"узнать\" + 0.130*\"карта\" + 0.114*\"вчера\" + 0.089*\"хотеть\" + '\n",
      "  '0.069*\"готовый\" + 0.066*\"жить\" + 0.038*\"туда\" + 0.033*\"сбербанк\" + '\n",
      "  '0.020*\"сказать\" + 0.018*\"нужно\"'),\n",
      " (155,\n",
      "  '0.585*\"кредит\" + 0.129*\"взять\" + 0.063*\"потребительский\" + 0.060*\"сбербанк\" '\n",
      "  '+ 0.037*\"хотеть\" + 0.036*\"период\" + 0.022*\"обменять\" + 0.019*\"льготный\" + '\n",
      "  '0.016*\"выплатить\" + 0.010*\"рефинансирование\"'),\n",
      " (170,\n",
      "  '0.550*\"банка\" + 0.259*\"ваш\" + 0.037*\"минута\" + 0.030*\"раз\" + '\n",
      "  '0.020*\"который\" + 0.016*\"такой\" + 0.009*\"затем\" + 0.008*\"постоянный\" + '\n",
      "  '0.008*\"живой\" + 0.008*\"робот\"'),\n",
      " (29,\n",
      "  '0.626*\"счёт\" + 0.122*\"деньга\" + 0.045*\"лицевой\" + 0.022*\"который\" + '\n",
      "  '0.020*\"карта\" + 0.015*\"люба\" + 0.013*\"вопрос\" + 0.012*\"нужно\" + '\n",
      "  '0.012*\"исправить\" + 0.011*\"сбербанк\"'),\n",
      " (189,\n",
      "  '0.407*\"номер\" + 0.178*\"телефон\" + 0.151*\"карта\" + 0.056*\"сбербанк\" + '\n",
      "  '0.053*\"привязать\" + 0.037*\"который\" + 0.032*\"повод\" + 0.022*\"мочь\" + '\n",
      "  '0.013*\"сделать\" + 0.010*\"нужно\"'),\n",
      " (62,\n",
      "  '0.561*\"банк\" + 0.264*\"мобильный\" + 0.083*\"отключить\" + 0.027*\"никак\" + '\n",
      "  '0.012*\"не_помнить\" + 0.012*\"делать\" + 0.011*\"пробовать\" + 0.006*\"бумажка\" + '\n",
      "  '0.006*\"карта\" + 0.002*\"деньга\"'),\n",
      " (85,\n",
      "  '0.430*\"подсказать\" + 0.400*\"пожалуйста\" + 0.075*\"сбербанк\" + 0.030*\"карта\" '\n",
      "  '+ 0.014*\"подключение\" + 0.010*\"опция\" + 0.009*\"случиться\" + '\n",
      "  '0.007*\"устройство\" + 0.004*\"создавать\" + 0.003*\"делать\"')]\n"
     ]
    }
   ],
   "source": [
    "pprint(lda.print_topics())"
   ]
  },
  {
   "cell_type": "code",
   "execution_count": 62,
   "metadata": {},
   "outputs": [],
   "source": [
    "coherence_model_lda = CoherenceModel(model=lda, texts=list(df['question'].str.split()), dictionary=id2word, coherence='c_v')\n",
    "coherence_lda = coherence_model_lda.get_coherence()"
   ]
  },
  {
   "cell_type": "code",
   "execution_count": 63,
   "metadata": {},
   "outputs": [
    {
     "name": "stdout",
     "output_type": "stream",
     "text": [
      "\n",
      "Coherence Score:  0.41379266270000187\n"
     ]
    }
   ],
   "source": [
    "print('\\nCoherence Score: ', coherence_lda)"
   ]
  },
  {
   "cell_type": "code",
   "execution_count": null,
   "metadata": {},
   "outputs": [],
   "source": []
  }
 ],
 "metadata": {
  "kernelspec": {
   "display_name": "Python 3",
   "language": "python",
   "name": "python3"
  },
  "language_info": {
   "codemirror_mode": {
    "name": "ipython",
    "version": 3
   },
   "file_extension": ".py",
   "mimetype": "text/x-python",
   "name": "python",
   "nbconvert_exporter": "python",
   "pygments_lexer": "ipython3",
   "version": "3.6.7"
  }
 },
 "nbformat": 4,
 "nbformat_minor": 2
}
